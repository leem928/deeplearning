    {
      "cell_type": "markdown",
      "metadata": {
        "id": "PyEFjTCww97J"
      },
      "source": [
        "## 2. 전이 학습으로 모델 성능 극대화하기"
      ]
    },
    {
      "cell_type": "markdown",
      "metadata": {
        "id": "Q0AiZr6nw97J"
      },
      "source": [
        "### 실습: 전이 학습 실습하기"
      ]
    },
    {
      "cell_type": "code",
      "execution_count": null,
      "metadata": {
        "id": "qKZwSZv8w97K",
        "outputId": "20ba6aa9-ae7b-4db7-ad02-ea8952ae0418"
      },
      "outputs": [
        {
          "name": "stdout",
          "output_type": "stream",
          "text": [
            "Found 160 images belonging to 2 classes.\n",
            "Found 120 images belonging to 2 classes.\n",
            "Downloading data from https://storage.googleapis.com/tensorflow/keras-applications/vgg16/vgg16_weights_tf_dim_ordering_tf_kernels_notop.h5\n",
            "58892288/58889256 [==============================] - 5s 0us/step\n",
            "58900480/58889256 [==============================] - 5s 0us/step\n",
            "Model: \"vgg16\"\n",
            "_________________________________________________________________\n",
            "Layer (type)                 Output Shape              Param #   \n",
            "=================================================================\n",
            "input_1 (InputLayer)         [(None, 150, 150, 3)]     0         \n",
            "_________________________________________________________________\n",
            "block1_conv1 (Conv2D)        (None, 150, 150, 64)      1792      \n",
            "_________________________________________________________________\n",
            "block1_conv2 (Conv2D)        (None, 150, 150, 64)      36928     \n",
            "_________________________________________________________________\n",
            "block1_pool (MaxPooling2D)   (None, 75, 75, 64)        0         \n",
            "_________________________________________________________________\n",
            "block2_conv1 (Conv2D)        (None, 75, 75, 128)       73856     \n",
            "_________________________________________________________________\n",
            "block2_conv2 (Conv2D)        (None, 75, 75, 128)       147584    \n",
            "_________________________________________________________________\n",
            "block2_pool (MaxPooling2D)   (None, 37, 37, 128)       0         \n",
            "_________________________________________________________________\n",
            "block3_conv1 (Conv2D)        (None, 37, 37, 256)       295168    \n",
            "_________________________________________________________________\n",
            "block3_conv2 (Conv2D)        (None, 37, 37, 256)       590080    \n",
            "_________________________________________________________________\n",
            "block3_conv3 (Conv2D)        (None, 37, 37, 256)       590080    \n",
            "_________________________________________________________________\n",
            "block3_pool (MaxPooling2D)   (None, 18, 18, 256)       0         \n",
            "_________________________________________________________________\n",
            "block4_conv1 (Conv2D)        (None, 18, 18, 512)       1180160   \n",
            "_________________________________________________________________\n",
            "block4_conv2 (Conv2D)        (None, 18, 18, 512)       2359808   \n",
            "_________________________________________________________________\n",
            "block4_conv3 (Conv2D)        (None, 18, 18, 512)       2359808   \n",
            "_________________________________________________________________\n",
            "block4_pool (MaxPooling2D)   (None, 9, 9, 512)         0         \n",
            "_________________________________________________________________\n",
            "block5_conv1 (Conv2D)        (None, 9, 9, 512)         2359808   \n",
            "_________________________________________________________________\n",
            "block5_conv2 (Conv2D)        (None, 9, 9, 512)         2359808   \n",
            "_________________________________________________________________\n",
            "block5_conv3 (Conv2D)        (None, 9, 9, 512)         2359808   \n",
            "_________________________________________________________________\n",
            "block5_pool (MaxPooling2D)   (None, 4, 4, 512)         0         \n",
            "=================================================================\n",
            "Total params: 14,714,688\n",
            "Trainable params: 0\n",
            "Non-trainable params: 14,714,688\n",
            "_________________________________________________________________\n",
            "Model: \"sequential_1\"\n",
            "_________________________________________________________________\n",
            "Layer (type)                 Output Shape              Param #   \n",
            "=================================================================\n",
            "vgg16 (Functional)           (None, 4, 4, 512)         14714688  \n",
            "_________________________________________________________________\n",
            "flatten_1 (Flatten)          (None, 8192)              0         \n",
            "_________________________________________________________________\n",
            "dense_2 (Dense)              (None, 64)                524352    \n",
            "_________________________________________________________________\n",
            "activation_5 (Activation)    (None, 64)                0         \n",
            "_________________________________________________________________\n",
            "dropout_1 (Dropout)          (None, 64)                0         \n",
            "_________________________________________________________________\n",
            "dense_3 (Dense)              (None, 1)                 65        \n",
            "_________________________________________________________________\n",
            "activation_6 (Activation)    (None, 1)                 0         \n",
            "=================================================================\n",
            "Total params: 15,239,105\n",
            "Trainable params: 524,417\n",
            "Non-trainable params: 14,714,688\n",
            "_________________________________________________________________\n"
          ]
        }
      ],
      "source": [
        "from tensorflow.keras.preprocessing.image import ImageDataGenerator\n",
        "from tensorflow.keras import Input, models, layers, optimizers, metrics\n",
        "from tensorflow.keras.layers import Dense, Flatten, Activation, Dropout\n",
        "from tensorflow.keras.applications import VGG16\n",
        "from tensorflow.keras.callbacks import EarlyStopping\n",
        "import numpy as np\n",
        "import matplotlib.pyplot as plt\n",
        "\n",
        "# 학습셋의 변형을 설정하는 부분입니다.\n",
        "train_datagen = ImageDataGenerator(rescale=1./255,          # 주어진 이미지의 크기를 설정합니다.\n",
        "                                  horizontal_flip=True,     # 수평 대칭 이미지를 50% 확률로 만들어 추가합니다.\n",
        "                                  width_shift_range=0.1,    # 전체 크기의 15% 범위에서 좌우로 이동합니다.\n",
        "                                  height_shift_range=0.1,   # 마찬가지로 위, 아래로 이동합니다.\n",
        "                                  #rotation_range=5,        # 정해진 각도만큼 회전시킵니다.\n",
        "                                  #shear_range=0.7,         # 좌표 하나를 고정시키고 나머지를 이동시킵니다.\n",
        "                                  #zoom_range=1.2,          # 확대 또는 축소시킵니다.\n",
        "                                  #vertical_flip=True,      # 수직 대칭 이미지를 만듭니다.\n",
        "                                  #fill_mode='nearest'      # 빈 공간을 채우는 방법입니다. nearest 옵션은 가장 비슷한 색으로 채우게 됩니다.\n",
        "                                  )\n",
        "\n",
        "\n",
        "train_generator = train_datagen.flow_from_directory(\n",
        "       './data-ch20/train',\n",
        "       target_size=(150, 150),\n",
        "       batch_size=5,\n",
        "       class_mode='binary')\n",
        "\n",
        "# 테스트셋의 정규화를 설정합니다.\n",
        "test_datagen = ImageDataGenerator(rescale=1./255)\n",
        "\n",
        "test_generator = test_datagen.flow_from_directory(\n",
        "       './data-ch20/test',\n",
        "       target_size=(150, 150),\n",
        "       batch_size=5,\n",
        "       class_mode='binary')\n",
        "\n",
        "# VGG16 모델을 불러옵니다.\n",
        "transfer_model = VGG16(weights='imagenet', include_top=False, input_shape=(150, 150, 3))\n",
        "transfer_model.trainable = False\n",
        "transfer_model.summary()\n",
        "\n",
        "# 우리의 모델을 설정합니다.\n",
        "finetune_model = models.Sequential()\n",
        "finetune_model.add(transfer_model)\n",
        "finetune_model.add(Flatten())\n",
        "finetune_model.add(Dense(64))\n",
        "finetune_model.add(Activation('relu'))\n",
        "finetune_model.add(Dropout(0.5))\n",
        "finetune_model.add(Dense(1))\n",
        "finetune_model.add(Activation('sigmoid'))\n",
        "finetune_model.summary()"
      ]
    },
    {
      "cell_type": "code",
      "execution_count": null,
      "metadata": {
        "id": "_jYrHsjLw97L",
        "outputId": "fda5fdd2-df1e-4243-bb7f-22958ac00d52"
      },
      "outputs": [
        {
          "name": "stdout",
          "output_type": "stream",
          "text": [
            "Epoch 1/20\n",
            "32/32 [==============================] - 7s 217ms/step - loss: 0.7590 - accuracy: 0.5688 - val_loss: 0.5409 - val_accuracy: 0.7800\n",
            "Epoch 2/20\n",
            "32/32 [==============================] - 7s 224ms/step - loss: 0.5509 - accuracy: 0.7125 - val_loss: 0.5420 - val_accuracy: 0.7600\n",
            "Epoch 3/20\n",
            "32/32 [==============================] - 7s 208ms/step - loss: 0.4324 - accuracy: 0.8188 - val_loss: 0.4058 - val_accuracy: 0.8200\n",
            "Epoch 4/20\n",
            "32/32 [==============================] - 7s 217ms/step - loss: 0.4192 - accuracy: 0.8313 - val_loss: 0.3407 - val_accuracy: 0.9200\n",
            "Epoch 5/20\n",
            "32/32 [==============================] - 7s 208ms/step - loss: 0.3139 - accuracy: 0.8813 - val_loss: 0.2570 - val_accuracy: 0.9600\n",
            "Epoch 6/20\n",
            "32/32 [==============================] - 7s 220ms/step - loss: 0.2795 - accuracy: 0.9125 - val_loss: 0.2508 - val_accuracy: 0.9200\n",
            "Epoch 7/20\n",
            "32/32 [==============================] - 7s 228ms/step - loss: 0.2519 - accuracy: 0.9125 - val_loss: 0.3089 - val_accuracy: 0.8600\n",
            "Epoch 8/20\n",
            "32/32 [==============================] - 7s 231ms/step - loss: 0.2198 - accuracy: 0.9375 - val_loss: 0.1758 - val_accuracy: 0.9800\n",
            "Epoch 9/20\n",
            "32/32 [==============================] - 7s 230ms/step - loss: 0.2399 - accuracy: 0.9312 - val_loss: 0.1661 - val_accuracy: 0.9400\n",
            "Epoch 10/20\n",
            "32/32 [==============================] - 7s 228ms/step - loss: 0.2002 - accuracy: 0.9375 - val_loss: 0.1326 - val_accuracy: 0.9800\n",
            "Epoch 11/20\n",
            "32/32 [==============================] - 8s 240ms/step - loss: 0.2483 - accuracy: 0.9125 - val_loss: 0.1493 - val_accuracy: 0.9400\n",
            "Epoch 12/20\n",
            "32/32 [==============================] - 8s 248ms/step - loss: 0.1724 - accuracy: 0.9438 - val_loss: 0.1812 - val_accuracy: 0.9400\n",
            "Epoch 13/20\n",
            "32/32 [==============================] - 8s 265ms/step - loss: 0.1952 - accuracy: 0.9500 - val_loss: 0.1734 - val_accuracy: 0.9200\n",
            "Epoch 14/20\n",
            "32/32 [==============================] - 8s 247ms/step - loss: 0.1618 - accuracy: 0.9625 - val_loss: 0.1516 - val_accuracy: 0.9400\n",
            "Epoch 15/20\n",
            "32/32 [==============================] - 10s 300ms/step - loss: 0.1693 - accuracy: 0.9563 - val_loss: 0.2223 - val_accuracy: 0.9200\n"
          ]
        }
      ],
      "source": [
        "# 모델의 실행 옵션을 설정합니다.\n",
        "finetune_model.compile(loss='binary_crossentropy', optimizer=optimizers.Adam(learning_rate=0.0002), metrics=['accuracy'])\n",
        "\n",
        "# 학습의 조기 중단을 설정합니다.\n",
        "early_stopping_callback = EarlyStopping(monitor='val_loss', patience=5)\n",
        "\n",
        "# 모델을 실행합니다.\n",
        "history = finetune_model.fit(\n",
        "       train_generator,\n",
        "       epochs=20,\n",
        "       validation_data=test_generator,\n",
        "       validation_steps=10,\n",
        "       callbacks=[early_stopping_callback])"
      ]
    },
    {
      "cell_type": "code",
      "execution_count": null,
      "metadata": {
        "id": "awJ5ZA82w97L",
        "outputId": "1f4b568b-ce42-4e49-da3e-01e5cfc284e3"
      },
      "outputs": [
        {
          "data": {
            "image/png": "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\n",
            "text/plain": [
              "<Figure size 432x288 with 1 Axes>"
            ]
          },
          "metadata": {
            "needs_background": "light"
          },
          "output_type": "display_data"
        }
      ],
      "source": [
        "# 검증셋과 학습셋의 오차를 저장합니다.\n",
        "y_vloss = history.history['val_loss']\n",
        "y_loss = history.history['loss']\n",
        "\n",
        "# 그래프로 표현해 봅니다.\n",
        "x_len = np.arange(len(y_loss))\n",
        "plt.plot(x_len, y_vloss, marker='.', c=\"red\", label='Testset_loss')\n",
        "plt.plot(x_len, y_loss, marker='.', c=\"blue\", label='Trainset_loss')\n",
        "\n",
        "# 그래프에 그리드를 주고 레이블을 표시하겠습니다.\n",
        "plt.legend(loc='upper right')\n",
        "plt.grid()\n",
        "plt.xlabel('epoch')\n",
        "plt.ylabel('loss')\n",
        "plt.show()"
      ]
    }
  ],
  "metadata": {
    "colab": {
      "name": "ch20-colab.ipynb",
      "provenance": []
    },
    "kernelspec": {
      "display_name": "Python 3 (ipykernel)",
      "language": "python",
      "name": "python3"
    },
    "language_info": {
      "codemirror_mode": {
        "name": "ipython",
        "version": 3
      },
      "file_extension": ".py",
      "mimetype": "text/x-python",
      "name": "python",
      "nbconvert_exporter": "python",
      "pygments_lexer": "ipython3",
      "version": "3.9.7"
    }
  },
  "nbformat": 4,
  "nbformat_minor": 0
}
